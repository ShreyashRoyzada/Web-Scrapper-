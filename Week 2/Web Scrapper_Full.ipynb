{
 "cells": [
  {
   "cell_type": "code",
   "execution_count": null,
   "metadata": {},
   "outputs": [],
   "source": [
    "import os \n",
    "import pandas as pd\n",
    "import requests\n",
    "from bs4 import BeautifulSoup"
   ]
  },
  {
   "cell_type": "code",
   "execution_count": 158,
   "metadata": {},
   "outputs": [
    {
     "name": "stdout",
     "output_type": "stream",
     "text": [
      "1000\n",
      "1000\n",
      "1000\n"
     ]
    }
   ],
   "source": [
    "book_name = []\n",
    "price = []\n",
    "availaibility = []\n",
    "i = 0\n",
    "Url = 'http://books.toscrape.com/'\n",
    "\n",
    "#Loop to check all the 50 Pages\n",
    "while i<=49:\n",
    "    html = requests.get(Url).text\n",
    "    soup = BeautifulSoup(html,'html.parser')\n",
    "    article = soup.find_all('article',class_=\"product_pod\")\n",
    "    for item in article:\n",
    "        #For saving the book names\n",
    "        h3 = item.find('h3')\n",
    "        anchor = h3.find('a')\n",
    "        book_name.append(anchor.get('title'))\n",
    "\n",
    "        #For saving book price\n",
    "        p = item.find('p',class_='price_color')\n",
    "        price.append(p.get_text())\n",
    "        \n",
    "        #For saving Book availaibility\n",
    "        p_avail = item.find('p',class_ = 'instock availability')\n",
    "        txt = p_avail.get_text()\n",
    "        ret = \"\"\n",
    "        for char in txt:\n",
    "            if(char!='\\n'):\n",
    "                ret= ret + char\n",
    "    \n",
    "        availaibility.append(ret)\n",
    "        \n",
    "    Url = 'http://books.toscrape.com/catalogue/page-'+str(i+2)+'.html'\n",
    "    i=i+1\n",
    "\n",
    "# print(len(book_name))\n",
    "# print(len(price))\n",
    "# print(len(availaibility))"
   ]
  },
  {
   "cell_type": "code",
   "execution_count": 163,
   "metadata": {},
   "outputs": [],
   "source": [
    "dictionary = {\"Book Name\":book_name,\"Book Price\":price,\"Book Availibility\":availaibility}\n",
    "df = pd.DataFrame(dictionary)\n",
    "df.to_csv('AllBooks.csv')"
   ]
  },
  {
   "cell_type": "code",
   "execution_count": null,
   "metadata": {},
   "outputs": [],
   "source": []
  }
 ],
 "metadata": {
  "kernelspec": {
   "display_name": "Python 3",
   "language": "python",
   "name": "python3"
  },
  "language_info": {
   "codemirror_mode": {
    "name": "ipython",
    "version": 3
   },
   "file_extension": ".py",
   "mimetype": "text/x-python",
   "name": "python",
   "nbconvert_exporter": "python",
   "pygments_lexer": "ipython3",
   "version": "3.8.3"
  }
 },
 "nbformat": 4,
 "nbformat_minor": 4
}
